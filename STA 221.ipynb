{
 "cells": [
  {
   "cell_type": "code",
   "execution_count": 1,
   "metadata": {},
   "outputs": [],
   "source": [
    "import numpy as np\n",
    "import pandas as pd\n",
    "import matplotlib.pyplot as plt\n",
    "from sklearn.preprocessing import StandardScaler\n",
    "import seaborn as sns"
   ]
  },
  {
   "cell_type": "markdown",
   "metadata": {},
   "source": [
    "# Data Preprocessing"
   ]
  },
  {
   "cell_type": "code",
   "execution_count": 2,
   "metadata": {},
   "outputs": [],
   "source": [
    "# read the data\n",
    "weather = pd.read_csv(\"weatherAUS.csv\", sep = \",\")\n",
    "# get copy of df with NA\n",
    "weather_na = weather.copy()\n",
    "# show the first 5 rows\n",
    "weather.head(5)\n",
    "\n",
    "# drop the Date variable \n",
    "weather = weather.drop(\"Date\", axis = 1)"
   ]
  },
  {
   "cell_type": "code",
   "execution_count": 3,
   "metadata": {},
   "outputs": [],
   "source": [
    "from sklearn.utils import resample\n",
    "\n",
    "# balance the dataset\n",
    "no_data = weather[weather.RainTomorrow == \"No\"]\n",
    "yes_data = weather[weather.RainTomorrow == \"Yes\"]\n",
    "yes_resamp = resample(yes_data, replace=True, n_samples=len(no_data), random_state=1)\n",
    "weather = pd.concat([no_data, yes_resamp]).reset_index()\n",
    "weather = weather.drop(\"index\", axis = 1)"
   ]
  },
  {
   "cell_type": "code",
   "execution_count": 4,
   "metadata": {},
   "outputs": [],
   "source": [
    "# replace the na values in numerical columns with their median\n",
    "numeric = weather.select_dtypes(include = \"float64\").columns\n",
    "scale = StandardScaler()\n",
    "for col in numeric:\n",
    "    weather[col].fillna(weather[col].median(), inplace = True)\n",
    "\n",
    "weather_outliers = weather.copy()\n",
    "    \n",
    "for col in [\"Rainfall\", \"Evaporation\",\"WindSpeed9am\", \"WindSpeed3pm\",\"WindGustSpeed\"]:\n",
    "    IQR = weather[col].quantile(0.75) - weather[col].quantile(0.25)\n",
    "    LQ = weather[col].quantile(0.25) - IQR*3\n",
    "    UQ = weather[col].quantile(0.75) + IQR*3\n",
    "    weather = weather[(weather[col] > LQ)]\n",
    "    weather = weather[(weather[col] < UQ)]\n",
    "    \n",
    "\n",
    "# normalize the numeric columns\n",
    "weather[numeric] = scale.fit_transform(weather[numeric])\n",
    "\n",
    "    \n",
    "# replace the na values in categorical columns with None as a new class   \n",
    "categoric = weather.select_dtypes(include = \"object\").drop([\"RainToday\",\"RainTomorrow\"], axis = 1).columns\n",
    "for col in categoric:\n",
    "    weather[col].fillna(\"None\", inplace = True)\n",
    "\n",
    "# get a copy of df without dummy     \n",
    "weather_full = weather.copy()\n",
    "    "
   ]
  },
  {
   "cell_type": "code",
   "execution_count": 5,
   "metadata": {},
   "outputs": [
    {
     "data": {
      "text/html": [
       "<div>\n",
       "<style scoped>\n",
       "    .dataframe tbody tr th:only-of-type {\n",
       "        vertical-align: middle;\n",
       "    }\n",
       "\n",
       "    .dataframe tbody tr th {\n",
       "        vertical-align: top;\n",
       "    }\n",
       "\n",
       "    .dataframe thead th {\n",
       "        text-align: right;\n",
       "    }\n",
       "</style>\n",
       "<table border=\"1\" class=\"dataframe\">\n",
       "  <thead>\n",
       "    <tr style=\"text-align: right;\">\n",
       "      <th></th>\n",
       "      <th>MinTemp</th>\n",
       "      <th>MaxTemp</th>\n",
       "      <th>Rainfall</th>\n",
       "      <th>Evaporation</th>\n",
       "      <th>Sunshine</th>\n",
       "      <th>WindGustSpeed</th>\n",
       "      <th>WindSpeed9am</th>\n",
       "      <th>WindSpeed3pm</th>\n",
       "      <th>Humidity9am</th>\n",
       "      <th>Humidity3pm</th>\n",
       "      <th>...</th>\n",
       "      <th>WindDir3pm_NW</th>\n",
       "      <th>WindDir3pm_None</th>\n",
       "      <th>WindDir3pm_S</th>\n",
       "      <th>WindDir3pm_SE</th>\n",
       "      <th>WindDir3pm_SSE</th>\n",
       "      <th>WindDir3pm_SSW</th>\n",
       "      <th>WindDir3pm_SW</th>\n",
       "      <th>WindDir3pm_W</th>\n",
       "      <th>WindDir3pm_WNW</th>\n",
       "      <th>WindDir3pm_WSW</th>\n",
       "    </tr>\n",
       "  </thead>\n",
       "  <tbody>\n",
       "    <tr>\n",
       "      <th>0</th>\n",
       "      <td>0.257316</td>\n",
       "      <td>0.121718</td>\n",
       "      <td>-0.176022</td>\n",
       "      <td>0.095941</td>\n",
       "      <td>0.033668</td>\n",
       "      <td>0.248688</td>\n",
       "      <td>0.700436</td>\n",
       "      <td>0.590147</td>\n",
       "      <td>-0.056158</td>\n",
       "      <td>-1.713874</td>\n",
       "      <td>...</td>\n",
       "      <td>0</td>\n",
       "      <td>0</td>\n",
       "      <td>0</td>\n",
       "      <td>0</td>\n",
       "      <td>0</td>\n",
       "      <td>0</td>\n",
       "      <td>0</td>\n",
       "      <td>0</td>\n",
       "      <td>1</td>\n",
       "      <td>0</td>\n",
       "    </tr>\n",
       "    <tr>\n",
       "      <th>1</th>\n",
       "      <td>-0.710903</td>\n",
       "      <td>0.453366</td>\n",
       "      <td>-0.497781</td>\n",
       "      <td>0.095941</td>\n",
       "      <td>0.033668</td>\n",
       "      <td>0.248688</td>\n",
       "      <td>-1.117751</td>\n",
       "      <td>0.364607</td>\n",
       "      <td>-1.642193</td>\n",
       "      <td>-1.566307</td>\n",
       "      <td>...</td>\n",
       "      <td>0</td>\n",
       "      <td>0</td>\n",
       "      <td>0</td>\n",
       "      <td>0</td>\n",
       "      <td>0</td>\n",
       "      <td>0</td>\n",
       "      <td>0</td>\n",
       "      <td>0</td>\n",
       "      <td>0</td>\n",
       "      <td>1</td>\n",
       "    </tr>\n",
       "    <tr>\n",
       "      <th>2</th>\n",
       "      <td>0.176631</td>\n",
       "      <td>0.543816</td>\n",
       "      <td>-0.497781</td>\n",
       "      <td>0.095941</td>\n",
       "      <td>0.033668</td>\n",
       "      <td>0.397871</td>\n",
       "      <td>0.586799</td>\n",
       "      <td>0.815687</td>\n",
       "      <td>-1.994645</td>\n",
       "      <td>-1.320361</td>\n",
       "      <td>...</td>\n",
       "      <td>0</td>\n",
       "      <td>0</td>\n",
       "      <td>0</td>\n",
       "      <td>0</td>\n",
       "      <td>0</td>\n",
       "      <td>0</td>\n",
       "      <td>0</td>\n",
       "      <td>0</td>\n",
       "      <td>0</td>\n",
       "      <td>1</td>\n",
       "    </tr>\n",
       "    <tr>\n",
       "      <th>3</th>\n",
       "      <td>-0.420438</td>\n",
       "      <td>0.890539</td>\n",
       "      <td>-0.497781</td>\n",
       "      <td>0.095941</td>\n",
       "      <td>0.033668</td>\n",
       "      <td>-1.243140</td>\n",
       "      <td>-0.322294</td>\n",
       "      <td>-1.101401</td>\n",
       "      <td>-1.583451</td>\n",
       "      <td>-2.009009</td>\n",
       "      <td>...</td>\n",
       "      <td>0</td>\n",
       "      <td>0</td>\n",
       "      <td>0</td>\n",
       "      <td>0</td>\n",
       "      <td>0</td>\n",
       "      <td>0</td>\n",
       "      <td>0</td>\n",
       "      <td>0</td>\n",
       "      <td>0</td>\n",
       "      <td>0</td>\n",
       "    </tr>\n",
       "    <tr>\n",
       "      <th>4</th>\n",
       "      <td>0.918933</td>\n",
       "      <td>1.538760</td>\n",
       "      <td>0.038484</td>\n",
       "      <td>0.095941</td>\n",
       "      <td>0.033668</td>\n",
       "      <td>0.024914</td>\n",
       "      <td>-0.776841</td>\n",
       "      <td>0.139067</td>\n",
       "      <td>0.590005</td>\n",
       "      <td>-1.172794</td>\n",
       "      <td>...</td>\n",
       "      <td>1</td>\n",
       "      <td>0</td>\n",
       "      <td>0</td>\n",
       "      <td>0</td>\n",
       "      <td>0</td>\n",
       "      <td>0</td>\n",
       "      <td>0</td>\n",
       "      <td>0</td>\n",
       "      <td>0</td>\n",
       "      <td>0</td>\n",
       "    </tr>\n",
       "  </tbody>\n",
       "</table>\n",
       "<p>5 rows × 118 columns</p>\n",
       "</div>"
      ],
      "text/plain": [
       "    MinTemp   MaxTemp  Rainfall  Evaporation  Sunshine  WindGustSpeed  \\\n",
       "0  0.257316  0.121718 -0.176022     0.095941  0.033668       0.248688   \n",
       "1 -0.710903  0.453366 -0.497781     0.095941  0.033668       0.248688   \n",
       "2  0.176631  0.543816 -0.497781     0.095941  0.033668       0.397871   \n",
       "3 -0.420438  0.890539 -0.497781     0.095941  0.033668      -1.243140   \n",
       "4  0.918933  1.538760  0.038484     0.095941  0.033668       0.024914   \n",
       "\n",
       "   WindSpeed9am  WindSpeed3pm  Humidity9am  Humidity3pm  ...  WindDir3pm_NW  \\\n",
       "0      0.700436      0.590147    -0.056158    -1.713874  ...              0   \n",
       "1     -1.117751      0.364607    -1.642193    -1.566307  ...              0   \n",
       "2      0.586799      0.815687    -1.994645    -1.320361  ...              0   \n",
       "3     -0.322294     -1.101401    -1.583451    -2.009009  ...              0   \n",
       "4     -0.776841      0.139067     0.590005    -1.172794  ...              1   \n",
       "\n",
       "   WindDir3pm_None  WindDir3pm_S  WindDir3pm_SE  WindDir3pm_SSE  \\\n",
       "0                0             0              0               0   \n",
       "1                0             0              0               0   \n",
       "2                0             0              0               0   \n",
       "3                0             0              0               0   \n",
       "4                0             0              0               0   \n",
       "\n",
       "   WindDir3pm_SSW  WindDir3pm_SW  WindDir3pm_W  WindDir3pm_WNW  WindDir3pm_WSW  \n",
       "0               0              0             0               1               0  \n",
       "1               0              0             0               0               1  \n",
       "2               0              0             0               0               1  \n",
       "3               0              0             0               0               0  \n",
       "4               0              0             0               0               0  \n",
       "\n",
       "[5 rows x 118 columns]"
      ]
     },
     "execution_count": 5,
     "metadata": {},
     "output_type": "execute_result"
    }
   ],
   "source": [
    "# replace the categorical variables with dummy variable\n",
    "for col in categoric:\n",
    "    temp = pd.get_dummies(weather[col], prefix = col)\n",
    "    weather = pd.merge(left = weather, right = temp, left_index = True, right_index = True)\n",
    "    weather = weather.drop(col, axis = 1)\n",
    "\n",
    "    \n",
    "# remove na in raintoday and raintomorrow\n",
    "weather = weather.dropna().copy()\n",
    "\n",
    "\n",
    "# replace Raintoday and Raintomorrow with dummy variable (0 = No, 1 = Yes)\n",
    "weather[\"RainToday\"] = pd.get_dummies(weather[\"RainToday\"], drop_first = True)\n",
    "weather[\"RainTomorrow\"] = pd.get_dummies(weather[\"RainTomorrow\"], drop_first = True)\n",
    "\n",
    "\n",
    "# show the first 5 rows\n",
    "weather.head(5)"
   ]
  },
  {
   "cell_type": "code",
   "execution_count": 6,
   "metadata": {},
   "outputs": [
    {
     "name": "stdout",
     "output_type": "stream",
     "text": [
      "(121407, 117)\n",
      "(121407,)\n",
      "(40470, 117)\n",
      "(40470,)\n"
     ]
    }
   ],
   "source": [
    "# split data into train and test with 3:1 ratio \n",
    "from sklearn.model_selection import train_test_split\n",
    "x_tr,x_te,y_tr,y_te = train_test_split(weather.drop(\"RainTomorrow\", axis = 1),weather[\"RainTomorrow\"],test_size=0.25,random_state = 0)\n",
    "\n",
    "print(x_tr.shape)\n",
    "print(y_tr.shape)\n",
    "print(x_te.shape)\n",
    "print(y_te.shape)"
   ]
  },
  {
   "cell_type": "markdown",
   "metadata": {},
   "source": [
    "# Model Building"
   ]
  },
  {
   "cell_type": "code",
   "execution_count": 57,
   "metadata": {},
   "outputs": [],
   "source": [
    "from sklearn.metrics import roc_curve, roc_auc_score\n",
    "from sklearn.metrics import precision_recall_curve\n",
    "from sklearn.metrics import confusion_matrix\n",
    "from IPython.display import display\n",
    "from sklearn.linear_model import LogisticRegression\n",
    "from sklearn.tree import DecisionTreeClassifier, plot_tree\n",
    "from sklearn.ensemble import RandomForestClassifier\n",
    "from sklearn.neighbors import KNeighborsClassifier\n",
    "from sklearn.neural_network import MLPClassifier\n",
    "from sklearn.model_selection import cross_val_score\n",
    "import time"
   ]
  },
  {
   "cell_type": "markdown",
   "metadata": {},
   "source": [
    "### Logistic Reg"
   ]
  },
  {
   "cell_type": "code",
   "execution_count": 8,
   "metadata": {},
   "outputs": [
    {
     "name": "stdout",
     "output_type": "stream",
     "text": [
      "running time of Logistic Regression: 3.5140867233276367\n"
     ]
    }
   ],
   "source": [
    "# fit the logistic regression model\n",
    "start = time.time()\n",
    "lm_model = LogisticRegression(max_iter = 500, random_state = 0).fit(x_tr,y_tr)\n",
    "print(\"running time of Logistic Regression:\", time.time() - start)"
   ]
  },
  {
   "cell_type": "code",
   "execution_count": 41,
   "metadata": {},
   "outputs": [
    {
     "name": "stdout",
     "output_type": "stream",
     "text": [
      "Accuracy of the Logistic on test: 0.7788485297751421\n",
      "ROC score of the Logistic on test: 0.8607409980814262\n",
      "--------------------------\n"
     ]
    },
    {
     "data": {
      "image/png": "[encoded data removed]",
      "text/plain": [
       "<Figure size 432x288 with 2 Axes>"
      ]
     },
     "metadata": {
      "needs_background": "light"
     },
     "output_type": "display_data"
    }
   ],
   "source": [
    "# make prediction based on test\n",
    "pred_lm_te = lm_model.predict(x_te)\n",
    "prob_lm_te = lm_model.predict_proba(x_te)[:,1]\n",
    "\n",
    "# get the prediction accuracy\n",
    "pa_lm = (pred_lm_te == y_te).mean()\n",
    "print(\"Accuracy of the Logistic on test:\",pa_lm)\n",
    "# get the ROC score\n",
    "roc_lm = roc_auc_score(y_te, prob_lm_te)\n",
    "print(\"ROC score of the Logistic on test:\", roc_lm)\n",
    "# get the confusion matrix on test\n",
    "cm_lm = (pd.DataFrame(confusion_matrix(y_te, pred_lm_te), \n",
    "                     columns = [\"Predicted 0\", \"Predicted 1\"],\n",
    "                     index = [\"Observed 0\", \"Observed 1\"]))\n",
    "sns.heatmap(cm_lm, annot = True, fmt = \"d\", cmap = \"YlGn\")\n",
    "\n",
    "\n",
    "print(\"--------------------------\")\n",
    "\n",
    "# get the ROC curve\n",
    "fpr_lm, tpr_lm, _ = roc_curve(y_te, prob_lm_te)\n"
   ]
  },
  {
   "cell_type": "markdown",
   "metadata": {},
   "source": [
    "### Decision Tree"
   ]
  },
  {
   "cell_type": "code",
   "execution_count": 43,
   "metadata": {},
   "outputs": [],
   "source": [
    "# fit the decision tree model\n",
    "mydt = DecisionTreeClassifier().fit(x_tr,y_tr)"
   ]
  },
  {
   "cell_type": "code",
   "execution_count": 44,
   "metadata": {},
   "outputs": [
    {
     "name": "stdout",
     "output_type": "stream",
     "text": [
      "Accuracy of the Decision Tree on test: 0.9020509019026439\n",
      "ROC score of Decision Tree on test: 0.8607409980814262\n",
      "--------------------------\n"
     ]
    },
    {
     "data": {
      "image/png": "[encoded data removed]",
      "text/plain": [
       "<Figure size 432x288 with 2 Axes>"
      ]
     },
     "metadata": {
      "needs_background": "light"
     },
     "output_type": "display_data"
    }
   ],
   "source": [
    "# make prediction based on test\n",
    "pred_dt_te = mydt.predict(x_te)\n",
    "prob_dt_te = mydt.predict_proba(x_te)[:,1]\n",
    "\n",
    "# get the prediction accuracy\n",
    "pa_dt = (pred_dt_te == y_te).mean()\n",
    "print(\"Accuracy of the Decision Tree on test:\",pa_dt)\n",
    "# get the ROC score\n",
    "roc_dt = roc_auc_score(y_te, prob_lm_te)\n",
    "print(\"ROC score of Decision Tree on test:\", roc_dt)\n",
    "# get the confusion matrix on test\n",
    "cm_dt = (pd.DataFrame(confusion_matrix(y_te, pred_dt_te), \n",
    "                     columns = [\"Predicted 0\", \"Predicted 1\"],\n",
    "                     index = [\"Observed 0\", \"Observed 1\"]))\n",
    "sns.heatmap(cm_dt, annot = True, fmt = \"d\", cmap = \"YlGn\")\n",
    "\n",
    "\n",
    "print(\"--------------------------\")\n",
    "\n",
    "# get the ROC curve\n",
    "fpr_dt, tpr_dt, _ = roc_curve(y_te, prob_dt_te)"
   ]
  },
  {
   "cell_type": "markdown",
   "metadata": {},
   "source": [
    "### Random Forest"
   ]
  },
  {
   "cell_type": "code",
   "execution_count": 64,
   "metadata": {},
   "outputs": [],
   "source": [
    "# fit the RF model\n",
    "myrf = RandomForestClassifier().fit(x_tr, y_tr)"
   ]
  },
  {
   "cell_type": "code",
   "execution_count": 65,
   "metadata": {},
   "outputs": [
    {
     "name": "stdout",
     "output_type": "stream",
     "text": [
      "Accuracy of the Random Forest on test: 0.9472448727452434\n",
      "ROC score of the Random Forest on test: 0.9887869273293866\n",
      "--------------------------\n"
     ]
    },
    {
     "data": {
      "image/png": "[encoded data removed]",
      "text/plain": [
       "<Figure size 432x288 with 2 Axes>"
      ]
     },
     "metadata": {
      "needs_background": "light"
     },
     "output_type": "display_data"
    }
   ],
   "source": [
    "# make prediction based on test\n",
    "pred_rf_te = myrf.predict(x_te)\n",
    "prob_rf_te = myrf.predict_proba(x_te)[:,1]\n",
    "\n",
    "# get the prediction accuracy\n",
    "pa_rf = (pred_rf_te == y_te).mean()\n",
    "print(\"Accuracy of the Random Forest on test:\",pa_rf)\n",
    "# get the ROC score\n",
    "roc_rf = roc_auc_score(y_te, prob_rf_te)\n",
    "print(\"ROC score of the Random Forest on test:\", roc_rf)\n",
    "# get the confusion matrix on test\n",
    "cm_rf = (pd.DataFrame(confusion_matrix(y_te, pred_rf_te), \n",
    "                     columns = [\"Predicted 0\", \"Predicted 1\"],\n",
    "                     index = [\"Observed 0\", \"Observed 1\"]))\n",
    "sns.heatmap(cm_rf, annot = True, fmt = \"d\", cmap = \"YlGn\")\n",
    "\n",
    "\n",
    "print(\"--------------------------\")\n",
    "\n",
    "# get the ROC curve\n",
    "fpr_rf, tpr_rf, _ = roc_curve(y_te, prob_rf_te)"
   ]
  },
  {
   "cell_type": "markdown",
   "metadata": {},
   "source": [
    "### KNN"
   ]
  },
  {
   "cell_type": "code",
   "execution_count": 91,
   "metadata": {},
   "outputs": [],
   "source": [
    "# fit the KNN model\n",
    "myknn = KNeighborsClassifier(weights = \"distance\").fit(x_tr, y_tr)"
   ]
  },
  {
   "cell_type": "code",
   "execution_count": 67,
   "metadata": {},
   "outputs": [
    {
     "name": "stdout",
     "output_type": "stream",
     "text": [
      "Accuracy of the KNN on test: 0.8272794662713121\n",
      "ROC score of the KNN on test: 0.9072423299216841\n",
      "--------------------------\n"
     ]
    },
    {
     "data": {
      "image/png": "[encoded data removed]",
      "text/plain": [
       "<Figure size 432x288 with 2 Axes>"
      ]
     },
     "metadata": {
      "needs_background": "light"
     },
     "output_type": "display_data"
    }
   ],
   "source": [
    "# make prediction based on test\n",
    "pred_knn_te = myknn.predict(x_te)\n",
    "prob_knn_te = myknn.predict_proba(x_te)[:,1]\n",
    "\n",
    "# get the prediction accuracy\n",
    "pa_knn = (pred_knn_te == y_te).mean()\n",
    "print(\"Accuracy of the KNN on test:\",pa_knn)\n",
    "# get the ROC score\n",
    "roc_knn = roc_auc_score(y_te, prob_knn_te)\n",
    "print(\"ROC score of the KNN on test:\", roc_knn)\n",
    "# get the confusion matrix on test\n",
    "cm_knn = (pd.DataFrame(confusion_matrix(y_te, pred_knn_te), \n",
    "                     columns = [\"Predicted 0\", \"Predicted 1\"],\n",
    "                     index = [\"Observed 0\", \"Observed 1\"]))\n",
    "sns.heatmap(cm_knn, annot = True, fmt = \"d\", cmap = \"YlGn\")\n",
    "\n",
    "\n",
    "print(\"--------------------------\")\n",
    "\n",
    "# get the ROC curve\n",
    "fpr_knn, tpr_knn, _ = roc_curve(y_te, prob_knn_te)\n"
   ]
  },
  {
   "cell_type": "code",
   "execution_count": 127,
   "metadata": {},
   "outputs": [
    {
     "data": {
      "text/plain": [
       "<matplotlib.legend.Legend at 0x1db52cc90d0>"
      ]
     },
     "execution_count": 127,
     "metadata": {},
     "output_type": "execute_result"
    },
    {
     "data": {
      "image/png": "[encoded data removed]",
      "text/plain": [
       "<Figure size 432x288 with 1 Axes>"
      ]
     },
     "metadata": {
      "needs_background": "light"
     },
     "output_type": "display_data"
    }
   ],
   "source": [
    "plt.plot(fpr_lm, tpr_lm, label = \"Logistic Reg\")\n",
    "plt.plot(fpr_dt, tpr_dt, label = \"Decision Tree\")\n",
    "plt.plot(fpr_rf, tpr_rf, label = \"Random Forest\")\n",
    "plt.plot(fpr_knn, tpr_knn, label = \"KNN\")\n",
    "plt.plot([0,1],[0,1], \"r--\", label = \"random guess\")\n",
    "plt.title(\"ROC curves\")\n",
    "plt.legend(loc = \"lower right\")"
   ]
  },
  {
   "cell_type": "markdown",
   "metadata": {},
   "source": [
    "# Hyperparameter Tuning"
   ]
  },
  {
   "cell_type": "code",
   "execution_count": 15,
   "metadata": {},
   "outputs": [],
   "source": [
    "from sklearn.model_selection import GridSearchCV"
   ]
  },
  {
   "cell_type": "markdown",
   "metadata": {},
   "source": [
    "### Logistic Reg"
   ]
  },
  {
   "cell_type": "code",
   "execution_count": 18,
   "metadata": {},
   "outputs": [
    {
     "name": "stdout",
     "output_type": "stream",
     "text": [
      "Fitting 3 folds for each of 15 candidates, totalling 45 fits\n"
     ]
    },
    {
     "name": "stderr",
     "output_type": "stream",
     "text": [
      "[Parallel(n_jobs=1)]: Using backend SequentialBackend with 1 concurrent workers.\n",
      "[Parallel(n_jobs=1)]: Done  45 out of  45 | elapsed:  2.6min finished\n"
     ]
    },
    {
     "data": {
      "text/plain": [
       "GridSearchCV(cv=3, estimator=LogisticRegression(max_iter=500, random_state=0),\n",
       "             param_grid={'C': [0.1, 1, 10],\n",
       "                         'solver': ['newton-cg', 'lbfgs', 'liblinear', 'sag',\n",
       "                                    'saga']},\n",
       "             scoring='accuracy', verbose=1)"
      ]
     },
     "execution_count": 18,
     "metadata": {},
     "output_type": "execute_result"
    }
   ],
   "source": [
    "l_grid = {\"C\": [0.1,1,10], \"solver\": [\"newton-cg\",\"lbfgs\",\"liblinear\",\"sag\",\"saga\"]}\n",
    "lm_grid = GridSearchCV(LogisticRegression(max_iter = 500), l_grid, scoring = \"accuracy\", refit = True, verbose = 1, cv = 3)\n",
    "lm_grid.fit(x_tr,y_tr)"
   ]
  },
  {
   "cell_type": "code",
   "execution_count": 46,
   "metadata": {},
   "outputs": [
    {
     "name": "stdout",
     "output_type": "stream",
     "text": [
      "{'C': 0.1, 'solver': 'newton-cg'}\n",
      "Accuracy of the Logistic on test: 0.778650852483321\n",
      "ROC score of the Logistic on test: 0.8606952540369922\n",
      "--------------------------\n"
     ]
    },
    {
     "data": {
      "image/png": "[encoded data removed]",
      "text/plain": [
       "<Figure size 432x288 with 2 Axes>"
      ]
     },
     "metadata": {
      "needs_background": "light"
     },
     "output_type": "display_data"
    }
   ],
   "source": [
    "# show the best presets\n",
    "print(lm_grid.best_params_)\n",
    "# make new prediction based on test\n",
    "pred_lm_g = lm_grid.predict(x_te)\n",
    "prob_lm_g = lm_grid.predict_proba(x_te)[:,1]\n",
    "\n",
    "# get the prediction accuracy\n",
    "pa_lm_g = (pred_lm_g == y_te).mean()\n",
    "print(\"Accuracy of the Logistic on test:\",pa_lm_g)\n",
    "# get the ROC score\n",
    "roc_lm_g = roc_auc_score(y_te, prob_lm_g)\n",
    "print(\"ROC score of the Logistic on test:\", roc_lm_g)\n",
    "# get the confusion matrix on test\n",
    "cm_lm_g = (pd.DataFrame(confusion_matrix(y_te, pred_lm_g), \n",
    "                     columns = [\"Predicted 0\", \"Predicted 1\"],\n",
    "                     index = [\"Observed 0\", \"Observed 1\"]))\n",
    "sns.heatmap(cm_lm_g, annot = True, fmt = \"d\", cmap = \"YlGn\")\n",
    "\n",
    "\n",
    "print(\"--------------------------\")\n",
    "\n",
    "# get the ROC curve\n",
    "fpr_lm_g, tpr_lm_g, _ = roc_curve(y_te, prob_lm_g)"
   ]
  },
  {
   "cell_type": "markdown",
   "metadata": {},
   "source": [
    "### Decision Tree"
   ]
  },
  {
   "cell_type": "code",
   "execution_count": 72,
   "metadata": {},
   "outputs": [
    {
     "name": "stdout",
     "output_type": "stream",
     "text": [
      "Fitting 3 folds for each of 4 candidates, totalling 12 fits\n"
     ]
    },
    {
     "name": "stderr",
     "output_type": "stream",
     "text": [
      "[Parallel(n_jobs=1)]: Using backend SequentialBackend with 1 concurrent workers.\n",
      "[Parallel(n_jobs=1)]: Done  12 out of  12 | elapsed:    3.9s finished\n"
     ]
    },
    {
     "data": {
      "text/plain": [
       "GridSearchCV(cv=3, estimator=DecisionTreeClassifier(),\n",
       "             param_grid={'criterion': ['gini', 'entropy'],\n",
       "                         'max_features': ['auto', 'log2']},\n",
       "             scoring='accuracy', verbose=1)"
      ]
     },
     "execution_count": 72,
     "metadata": {},
     "output_type": "execute_result"
    }
   ],
   "source": [
    "d_grid = {\"criterion\":[\"gini\",\"entropy\"],\"max_features\":[\"auto\",\"log2\"]}\n",
    "# let grid search choose the best model\n",
    "dt_grid = GridSearchCV(DecisionTreeClassifier(), d_grid, scoring = \"accuracy\", refit = True, verbose = 1, cv = 3)\n",
    "dt_grid.fit(x_tr,y_tr)"
   ]
  },
  {
   "cell_type": "code",
   "execution_count": 73,
   "metadata": {},
   "outputs": [
    {
     "name": "stdout",
     "output_type": "stream",
     "text": [
      "{'criterion': 'entropy', 'max_features': 'auto'}\n",
      "Accuracy of the Decision Tree on test: 0.9024956758092414\n",
      "ROC score of the Decision Tree on test: 0.906231305099199\n",
      "--------------------------\n"
     ]
    },
    {
     "data": {
      "image/png": "[encoded data removed]",
      "text/plain": [
       "<Figure size 432x288 with 2 Axes>"
      ]
     },
     "metadata": {
      "needs_background": "light"
     },
     "output_type": "display_data"
    }
   ],
   "source": [
    "# show the best presets\n",
    "print(dt_grid.best_params_)\n",
    "# make new prediction based on test\n",
    "pred_dt_g = dt_grid.predict(x_te)\n",
    "prob_dt_g = dt_grid.predict_proba(x_te)[:,1]\n",
    "\n",
    "# get the prediction accuracy\n",
    "pa_dt_g = (pred_dt_g == y_te).mean()\n",
    "print(\"Accuracy of the Decision Tree on test:\",pa_dt_g)\n",
    "# get the ROC score\n",
    "roc_dt_g = roc_auc_score(y_te, prob_dt_g)\n",
    "print(\"ROC score of the Decision Tree on test:\", roc_dt_g)\n",
    "# get the confusion matrix on test\n",
    "cm_dt_g = (pd.DataFrame(confusion_matrix(y_te, pred_dt_g), \n",
    "                     columns = [\"Predicted 0\", \"Predicted 1\"],\n",
    "                     index = [\"Observed 0\", \"Observed 1\"]))\n",
    "sns.heatmap(cm_dt_g, annot = True, fmt = \"d\", cmap = \"YlGn\")\n",
    "\n",
    "\n",
    "print(\"--------------------------\")\n",
    "\n",
    "# get the ROC curve\n",
    "fpr_dt_g, tpr_dt_g, _ = roc_curve(y_te, prob_dt_g)"
   ]
  },
  {
   "cell_type": "markdown",
   "metadata": {},
   "source": [
    "### Random Forest"
   ]
  },
  {
   "cell_type": "code",
   "execution_count": 74,
   "metadata": {},
   "outputs": [
    {
     "name": "stdout",
     "output_type": "stream",
     "text": [
      "Fitting 3 folds for each of 4 candidates, totalling 12 fits\n"
     ]
    },
    {
     "name": "stderr",
     "output_type": "stream",
     "text": [
      "[Parallel(n_jobs=1)]: Using backend SequentialBackend with 1 concurrent workers.\n",
      "[Parallel(n_jobs=1)]: Done  12 out of  12 | elapsed:  3.0min finished\n"
     ]
    },
    {
     "data": {
      "text/plain": [
       "GridSearchCV(cv=3, estimator=RandomForestClassifier(),\n",
       "             param_grid={'criterion': ['gini', 'entropy'],\n",
       "                         'max_features': ['sqrt', 'log2']},\n",
       "             scoring='accuracy', verbose=1)"
      ]
     },
     "execution_count": 74,
     "metadata": {},
     "output_type": "execute_result"
    }
   ],
   "source": [
    "r_grid = {\"criterion\":[\"gini\",\"entropy\"],\"max_features\":[\"sqrt\",\"log2\"]}\n",
    "# let grid search choose the best model\n",
    "rf_grid = GridSearchCV(RandomForestClassifier(), r_grid, scoring = \"accuracy\", refit = True, verbose = 1, cv = 3)\n",
    "rf_grid.fit(x_tr,y_tr)"
   ]
  },
  {
   "cell_type": "code",
   "execution_count": 75,
   "metadata": {},
   "outputs": [
    {
     "name": "stdout",
     "output_type": "stream",
     "text": [
      "{'criterion': 'entropy', 'max_features': 'log2'}\n",
      "Accuracy of the Random Tree on test: 0.9477637756362738\n",
      "ROC score of the Random Tree on test: 0.9891529618612587\n",
      "--------------------------\n"
     ]
    },
    {
     "data": {
      "image/png": "[encoded data removed]",
      "text/plain": [
       "<Figure size 432x288 with 2 Axes>"
      ]
     },
     "metadata": {
      "needs_background": "light"
     },
     "output_type": "display_data"
    }
   ],
   "source": [
    "# show the best presets\n",
    "print(rf_grid.best_params_)\n",
    "# make new prediction based on test\n",
    "pred_rf_g = rf_grid.predict(x_te)\n",
    "prob_rf_g = rf_grid.predict_proba(x_te)[:,1]\n",
    "\n",
    "# get the prediction accuracy\n",
    "pa_rf_g = (pred_rf_g == y_te).mean()\n",
    "print(\"Accuracy of the Random Tree on test:\",pa_rf_g)\n",
    "# get the ROC score\n",
    "roc_rf_g = roc_auc_score(y_te, prob_rf_g)\n",
    "print(\"ROC score of the Random Tree on test:\", roc_rf_g)\n",
    "# get the confusion matrix on test\n",
    "cm_rf_g = (pd.DataFrame(confusion_matrix(y_te, pred_rf_g), \n",
    "                     columns = [\"Predicted 0\", \"Predicted 1\"],\n",
    "                     index = [\"Observed 0\", \"Observed 1\"]))\n",
    "sns.heatmap(cm_rf_g, annot = True, fmt = \"d\", cmap = \"YlGn\")\n",
    "\n",
    "\n",
    "print(\"--------------------------\")\n",
    "\n",
    "# get the ROC curve\n",
    "fpr_rf_g, tpr_rf_g, _ = roc_curve(y_te, prob_rf_g)"
   ]
  },
  {
   "cell_type": "markdown",
   "metadata": {},
   "source": [
    "### KNN"
   ]
  },
  {
   "cell_type": "code",
   "execution_count": 96,
   "metadata": {},
   "outputs": [
    {
     "data": {
      "text/plain": [
       "KNeighborsClassifier(p=1, weights='distance')"
      ]
     },
     "execution_count": 96,
     "metadata": {},
     "output_type": "execute_result"
    }
   ],
   "source": [
    "k_grid = {\"weights\":[\"uniform\"]}\n",
    "# let grid search choose the best model\n",
    "knn_grid = KNeighborsClassifier(weights = \"distance\", p = 1)\n",
    "knn_grid.fit(x_tr,y_tr)"
   ]
  },
  {
   "cell_type": "code",
   "execution_count": 98,
   "metadata": {},
   "outputs": [
    {
     "name": "stdout",
     "output_type": "stream",
     "text": [
      "Accuracy of the KNN on test: 0.88295033358043\n",
      "ROC score of the KNN on test: 0.9669539901087826\n",
      "--------------------------\n"
     ]
    },
    {
     "data": {
      "image/png": "[encoded data removed]",
      "text/plain": [
       "<Figure size 432x288 with 2 Axes>"
      ]
     },
     "metadata": {
      "needs_background": "light"
     },
     "output_type": "display_data"
    }
   ],
   "source": [
    "# show the best presets\n",
    "#print(knn_grid.best_params_)\n",
    "# make new prediction based on test\n",
    "pred_knn_g = knn_grid.predict(x_te)\n",
    "prob_knn_g = knn_grid.predict_proba(x_te)[:,1]\n",
    "\n",
    "# get the prediction accuracy\n",
    "pa_knn_g = (pred_knn_g == y_te).mean()\n",
    "print(\"Accuracy of the KNN on test:\",pa_knn_g)\n",
    "# get the ROC score\n",
    "roc_knn_g = roc_auc_score(y_te, prob_knn_g)\n",
    "print(\"ROC score of the KNN on test:\", roc_knn_g)\n",
    "# get the confusion matrix on test\n",
    "cm_knn_g = (pd.DataFrame(confusion_matrix(y_te, pred_knn_g), \n",
    "                     columns = [\"Predicted 0\", \"Predicted 1\"],\n",
    "                     index = [\"Observed 0\", \"Observed 1\"]))\n",
    "sns.heatmap(cm_knn_g, annot = True, fmt = \"d\", cmap = \"YlGn\")\n",
    "\n",
    "\n",
    "print(\"--------------------------\")\n",
    "\n",
    "# get the ROC curve\n",
    "fpr_knn_g, tpr_knn_g, _ = roc_curve(y_te, prob_knn_g)"
   ]
  },
  {
   "cell_type": "code",
   "execution_count": 126,
   "metadata": {},
   "outputs": [
    {
     "data": {
      "text/plain": [
       "<matplotlib.legend.Legend at 0x1db52dd1b50>"
      ]
     },
     "execution_count": 126,
     "metadata": {},
     "output_type": "execute_result"
    },
    {
     "data": {
      "image/png": "[encoded data removed]",
      "text/plain": [
       "<Figure size 432x288 with 1 Axes>"
      ]
     },
     "metadata": {
      "needs_background": "light"
     },
     "output_type": "display_data"
    }
   ],
   "source": [
    "plt.plot(fpr_lm_g, tpr_lm_g, label = \"Logistic Reg\")\n",
    "plt.plot(fpr_dt_g, tpr_dt_g, label = \"Decision Tree\")\n",
    "plt.plot(fpr_rf_g, tpr_rf_g, label = \"Random Forest\")\n",
    "plt.plot(fpr_knn_g, tpr_knn_g, label = \"KNN\")\n",
    "plt.plot([0,1],[0,1], \"r--\", label = \"random guess\")\n",
    "plt.title(\"ROC curves\")\n",
    "plt.legend(loc = \"lower right\")"
   ]
  },
  {
   "cell_type": "markdown",
   "metadata": {},
   "source": [
    "# Time Evaluation"
   ]
  },
  {
   "cell_type": "code",
   "execution_count": null,
   "metadata": {},
   "outputs": [],
   "source": []
  },
  {
   "cell_type": "code",
   "execution_count": 105,
   "metadata": {},
   "outputs": [],
   "source": [
    "# use for loop to get 10 running times of each model\n",
    "t_lm = np.zeros(10)\n",
    "for i in range(10):\n",
    "    start = time.time()\n",
    "    tmodel = LogisticRegression(C = 0.1, solver = \"newton-cg\", max_iter = 500, random_state = i).fit(x_tr,y_tr)\n",
    "    t_lm[i] = time.time() - start\n",
    "    \n",
    "t_dt = np.zeros(10)\n",
    "for i in range(10):\n",
    "    start = time.time()\n",
    "    tmodel = DecisionTreeClassifier(criterion = \"entropy\", max_features = \"auto\", random_state = i).fit(x_tr,y_tr)\n",
    "    t_dt[i] = time.time() - start\n",
    "    \n",
    "t_rf = np.zeros(10)\n",
    "for i in range(10):\n",
    "    start = time.time()\n",
    "    tmodel = RandomForestClassifier(criterion = \"entropy\", max_features = \"log2\", random_state = i).fit(x_tr,y_tr)\n",
    "    t_rf[i] = time.time() - start\n",
    "    \n",
    "t_knn = np.zeros(10)\n",
    "for i in range(10):\n",
    "    start = time.time()\n",
    "    tmodel = KNeighborsClassifier(weights = \"distance\", p = 1).fit(x_tr,y_tr)\n",
    "    t_knn[i] = time.time() - start"
   ]
  },
  {
   "cell_type": "code",
   "execution_count": 123,
   "metadata": {},
   "outputs": [
    {
     "data": {
      "text/plain": [
       "([<matplotlib.axis.XTick at 0x1db52c32880>,\n",
       "  <matplotlib.axis.XTick at 0x1db52c32850>,\n",
       "  <matplotlib.axis.XTick at 0x1dbb368ba00>,\n",
       "  <matplotlib.axis.XTick at 0x1db52ca3190>],\n",
       " [Text(1, 0, 'Logistic Reg'),\n",
       "  Text(2, 0, 'Decision Tree'),\n",
       "  Text(3, 0, 'Random Forest'),\n",
       "  Text(4, 0, 'KNN')])"
      ]
     },
     "execution_count": 123,
     "metadata": {},
     "output_type": "execute_result"
    },
    {
     "data": {
      "image/png": "[encoded data removed]",
      "text/plain": [
       "<Figure size 432x288 with 1 Axes>"
      ]
     },
     "metadata": {
      "needs_background": "light"
     },
     "output_type": "display_data"
    }
   ],
   "source": [
    "# plot the boxplot\n",
    "time_result = {\"Logistic Reg\": t_lm, \"Decision Tree\": t_dt, \"Random Forest\": t_rf, \"KNN\": t_knn}\n",
    "plt.boxplot(time_result.values())\n",
    "\n",
    "plt.xticks([1,2,3,4],[\"Logistic Reg\", \"Decision Tree\", \"Random Forest\", \"KNN\"])"
   ]
  },
  {
   "cell_type": "code",
   "execution_count": 21,
   "metadata": {},
   "outputs": [],
   "source": [
    "# check the time and accuracy of different number of trees in Random Forest\n",
    "n_tree = [10, 100, 200, 300, 400, 500]\n",
    "time_rf = np.zeros(6)\n",
    "acc_rf = np.zeros(6)\n",
    "for i in range(len(n_tree)):\n",
    "    start = time.time()\n",
    "    rf = RandomForestClassifier(n_estimators = n_tree[i], max_depth = 20).fit(x_tr, y_tr)\n",
    "    time_rf[i] = time.time() - start\n",
    "    pred_rf = rf.predict(x_te)\n",
    "    acc_rf[i] = (pred_rf == y_te).mean()"
   ]
  },
  {
   "cell_type": "code",
   "execution_count": 30,
   "metadata": {},
   "outputs": [
    {
     "data": {
      "text/plain": [
       "Text(0, 0.5, 'Prediciton accuracy')"
      ]
     },
     "execution_count": 30,
     "metadata": {},
     "output_type": "execute_result"
    },
    {
     "data": {
      "image/png": "[encoded data removed]",
      "text/plain": [
       "<Figure size 432x288 with 2 Axes>"
      ]
     },
     "metadata": {
      "needs_background": "light"
     },
     "output_type": "display_data"
    }
   ],
   "source": [
    "# make the plot\n",
    "fig, ax = plt.subplots()\n",
    "ax.plot(n_tree, time_rf, color = \"r\", label = \"time\")\n",
    "ax.set_xlabel(\"number of trees\")\n",
    "ax.set_ylabel(\"Time spent\", color = \"r\")\n",
    "ax2 = ax.twinx()\n",
    "ax2.plot(n_tree, acc_rf, label = \"accuracy\")\n",
    "ax2.set_ylabel(\"Prediciton accuracy\", color = \"b\")\n"
   ]
  },
  {
   "cell_type": "code",
   "execution_count": null,
   "metadata": {},
   "outputs": [],
   "source": []
  }
 ],
 "metadata": {
  "kernelspec": {
   "display_name": "Python 3",
   "language": "python",
   "name": "python3"
  },
  "language_info": {
   "codemirror_mode": {
    "name": "ipython",
    "version": 3
   },
   "file_extension": ".py",
   "mimetype": "text/x-python",
   "name": "python",
   "nbconvert_exporter": "python",
   "pygments_lexer": "ipython3",
   "version": "3.8.5"
  }
 },
 "nbformat": 4,
 "nbformat_minor": 4
}
